{
 "cells": [
  {
   "cell_type": "code",
   "execution_count": 820,
   "id": "41894085-d805-4325-96e8-a844e920141b",
   "metadata": {},
   "outputs": [],
   "source": [
    "import pandas as pd # sirve para el manejo y analisis de datos y estructuras "
   ]
  },
  {
   "cell_type": "code",
   "execution_count": 821,
   "id": "615d7b53-a03f-4d2b-b689-3620d55c7f92",
   "metadata": {},
   "outputs": [],
   "source": [
    "import numpy as np # sirve para el calculo numerico y analisis de datos "
   ]
  },
  {
   "cell_type": "code",
   "execution_count": 822,
   "id": "fb47026b-ed28-462e-8a5c-bfa5a511fc02",
   "metadata": {},
   "outputs": [],
   "source": [
    "import seaborn as sns # sirve para crear graficos estadisticos "
   ]
  },
  {
   "cell_type": "code",
   "execution_count": 823,
   "id": "ca4a5f8e-cd28-4f55-b769-a7e9c9b7fbed",
   "metadata": {},
   "outputs": [],
   "source": [
    "import matplotlib.pyplot as plt # sirve para crear graficos en dos dimensiones"
   ]
  },
  {
   "cell_type": "code",
   "execution_count": 824,
   "id": "0ad12708-a103-40c1-8d7d-a02bd82bbd80",
   "metadata": {},
   "outputs": [],
   "source": [
    "from sklearn import metrics # libreria para modelos de ciencias de datos"
   ]
  },
  {
   "cell_type": "code",
   "execution_count": 825,
   "id": "0a4684d3-833b-4dfb-ae90-0d20f99274b0",
   "metadata": {},
   "outputs": [],
   "source": [
    "from sklearn.model_selection import train_test_split # libreria para modelos de ciencias de datos"
   ]
  },
  {
   "cell_type": "code",
   "execution_count": 826,
   "id": "6093afce-9a9b-416b-abc3-cceadb231f88",
   "metadata": {},
   "outputs": [],
   "source": [
    "from sklearn.linear_model import LogisticRegression # libreria para modelos de ciencias de datos"
   ]
  },
  {
   "cell_type": "code",
   "execution_count": 827,
   "id": "39ae0ed7-0d61-4002-a2f3-4103c2382fc5",
   "metadata": {},
   "outputs": [],
   "source": [
    "from sklearn.linear_model import LinearRegression # libreria para modelos de ciencias de datos"
   ]
  },
  {
   "cell_type": "code",
   "execution_count": 828,
   "id": "0dc1695a-ad0c-41e3-aa10-be5b62e9b69e",
   "metadata": {},
   "outputs": [],
   "source": [
    "from sklearn.metrics import classification_report"
   ]
  },
  {
   "cell_type": "code",
   "execution_count": 889,
   "id": "f079458d-fe36-4898-b113-5bb2f0671ecc",
   "metadata": {},
   "outputs": [],
   "source": [
    "from sklearn.tree import DecisionTreeClassifier, plot_tree"
   ]
  },
  {
   "cell_type": "code",
   "execution_count": 829,
   "id": "c03746e7-94ac-4c57-ac39-58c288fea183",
   "metadata": {},
   "outputs": [],
   "source": [
    "from sklearn.metrics import classification_report, confusion_matrix # libreria para modelos de ciencias de datos"
   ]
  },
  {
   "cell_type": "code",
   "execution_count": 830,
   "id": "300f2eda-4e06-4b5e-aa42-729be55c8e48",
   "metadata": {},
   "outputs": [],
   "source": [
    "##Paso 1 Realizar un análisis exploratorio de los datos para identificar relaciones entre variables, valores atípicos, tendencias, etc.    \n"
   ]
  },
  {
   "cell_type": "code",
   "execution_count": 831,
   "id": "9cfbdc72-7b67-411f-b14f-fc2313f3ffe6",
   "metadata": {},
   "outputs": [],
   "source": [
    "Datos = pd.read_csv('c:/Users/sharo/DetalleCarv3.csv')"
   ]
  },
  {
   "cell_type": "code",
   "execution_count": 832,
   "id": "692930e8-cac0-40cd-898c-d3e9ac83187f",
   "metadata": {},
   "outputs": [
    {
     "data": {
      "text/html": [
       "<div>\n",
       "<style scoped>\n",
       "    .dataframe tbody tr th:only-of-type {\n",
       "        vertical-align: middle;\n",
       "    }\n",
       "\n",
       "    .dataframe tbody tr th {\n",
       "        vertical-align: top;\n",
       "    }\n",
       "\n",
       "    .dataframe thead th {\n",
       "        text-align: right;\n",
       "    }\n",
       "</style>\n",
       "<table border=\"1\" class=\"dataframe\">\n",
       "  <thead>\n",
       "    <tr style=\"text-align: right;\">\n",
       "      <th></th>\n",
       "      <th>name</th>\n",
       "      <th>year</th>\n",
       "      <th>selling_price</th>\n",
       "      <th>km_driven</th>\n",
       "      <th>fuel</th>\n",
       "      <th>seller_type</th>\n",
       "      <th>transmission</th>\n",
       "      <th>owner</th>\n",
       "      <th>mileage</th>\n",
       "      <th>engine</th>\n",
       "      <th>max_power</th>\n",
       "      <th>torque</th>\n",
       "      <th>seats</th>\n",
       "    </tr>\n",
       "  </thead>\n",
       "  <tbody>\n",
       "    <tr>\n",
       "      <th>0</th>\n",
       "      <td>Maruti Swift Dzire VDI</td>\n",
       "      <td>2014.0</td>\n",
       "      <td>450000.0</td>\n",
       "      <td>145500.0</td>\n",
       "      <td>Diesel</td>\n",
       "      <td>Individual</td>\n",
       "      <td>Manual</td>\n",
       "      <td>First Owner</td>\n",
       "      <td>23.4 kmpl</td>\n",
       "      <td>1248 CC</td>\n",
       "      <td>74 bhp</td>\n",
       "      <td>190Nm@ 2000rpm</td>\n",
       "      <td>5.0</td>\n",
       "    </tr>\n",
       "    <tr>\n",
       "      <th>1</th>\n",
       "      <td>Skoda Rapid 1.5 TDI Ambition</td>\n",
       "      <td>2014.0</td>\n",
       "      <td>370000.0</td>\n",
       "      <td>120000.0</td>\n",
       "      <td>Diesel</td>\n",
       "      <td>Individual</td>\n",
       "      <td>Manual</td>\n",
       "      <td>Second Owner</td>\n",
       "      <td>21.14 kmpl</td>\n",
       "      <td>1498 CC</td>\n",
       "      <td>103.52 bhp</td>\n",
       "      <td>250Nm@ 1500-2500rpm</td>\n",
       "      <td>5.0</td>\n",
       "    </tr>\n",
       "    <tr>\n",
       "      <th>2</th>\n",
       "      <td>Honda City 2017-2020 EXi,2006,158000,140000,Pe...</td>\n",
       "      <td>NaN</td>\n",
       "      <td>NaN</td>\n",
       "      <td>NaN</td>\n",
       "      <td>NaN</td>\n",
       "      <td>NaN</td>\n",
       "      <td>NaN</td>\n",
       "      <td>NaN</td>\n",
       "      <td>NaN</td>\n",
       "      <td>NaN</td>\n",
       "      <td>NaN</td>\n",
       "      <td>NaN</td>\n",
       "      <td>NaN</td>\n",
       "    </tr>\n",
       "    <tr>\n",
       "      <th>3</th>\n",
       "      <td>Hyundai i20 Sportz Diesel</td>\n",
       "      <td>2010.0</td>\n",
       "      <td>225000.0</td>\n",
       "      <td>127000.0</td>\n",
       "      <td>Diesel</td>\n",
       "      <td>Individual</td>\n",
       "      <td>Manual</td>\n",
       "      <td>First Owner</td>\n",
       "      <td>23.0 kmpl</td>\n",
       "      <td>1396 CC</td>\n",
       "      <td>90 bhp</td>\n",
       "      <td>22.4 kgm at 1750-2750rpm</td>\n",
       "      <td>5.0</td>\n",
       "    </tr>\n",
       "    <tr>\n",
       "      <th>4</th>\n",
       "      <td>Maruti Swift VXI BSIII,2007,130000,120000,Petr...</td>\n",
       "      <td>NaN</td>\n",
       "      <td>NaN</td>\n",
       "      <td>NaN</td>\n",
       "      <td>NaN</td>\n",
       "      <td>NaN</td>\n",
       "      <td>NaN</td>\n",
       "      <td>NaN</td>\n",
       "      <td>NaN</td>\n",
       "      <td>NaN</td>\n",
       "      <td>NaN</td>\n",
       "      <td>NaN</td>\n",
       "      <td>NaN</td>\n",
       "    </tr>\n",
       "    <tr>\n",
       "      <th>5</th>\n",
       "      <td>Hyundai Xcent 1.2 VTVT E Plus</td>\n",
       "      <td>2017.0</td>\n",
       "      <td>440000.0</td>\n",
       "      <td>45000.0</td>\n",
       "      <td>Petrol</td>\n",
       "      <td>Individual</td>\n",
       "      <td>Manual</td>\n",
       "      <td>First Owner</td>\n",
       "      <td>20.14 kmpl</td>\n",
       "      <td>1197 CC</td>\n",
       "      <td>81.86 bhp</td>\n",
       "      <td>113.75nm@ 4000rpm</td>\n",
       "      <td>5.0</td>\n",
       "    </tr>\n",
       "    <tr>\n",
       "      <th>6</th>\n",
       "      <td>Maruti Wagon R LXI DUO BSIII,2007,96000,175000...</td>\n",
       "      <td>NaN</td>\n",
       "      <td>NaN</td>\n",
       "      <td>NaN</td>\n",
       "      <td>NaN</td>\n",
       "      <td>NaN</td>\n",
       "      <td>NaN</td>\n",
       "      <td>NaN</td>\n",
       "      <td>NaN</td>\n",
       "      <td>NaN</td>\n",
       "      <td>NaN</td>\n",
       "      <td>NaN</td>\n",
       "      <td>NaN</td>\n",
       "    </tr>\n",
       "    <tr>\n",
       "      <th>7</th>\n",
       "      <td>Maruti 800 DX BSII</td>\n",
       "      <td>2001.0</td>\n",
       "      <td>45000.0</td>\n",
       "      <td>5000.0</td>\n",
       "      <td>Petrol</td>\n",
       "      <td>Individual</td>\n",
       "      <td>Manual</td>\n",
       "      <td>Second Owner</td>\n",
       "      <td>16.1 kmpl</td>\n",
       "      <td>796 CC</td>\n",
       "      <td>37 bhp</td>\n",
       "      <td>59Nm@ 2500rpm</td>\n",
       "      <td>4.0</td>\n",
       "    </tr>\n",
       "    <tr>\n",
       "      <th>8</th>\n",
       "      <td>Toyota Etios VXD</td>\n",
       "      <td>2011.0</td>\n",
       "      <td>350000.0</td>\n",
       "      <td>90000.0</td>\n",
       "      <td>Diesel</td>\n",
       "      <td>Individual</td>\n",
       "      <td>Manual</td>\n",
       "      <td>First Owner</td>\n",
       "      <td>23.59 kmpl</td>\n",
       "      <td>1364 CC</td>\n",
       "      <td>67.1 bhp</td>\n",
       "      <td>170Nm@ 1800-2400rpm</td>\n",
       "      <td>5.0</td>\n",
       "    </tr>\n",
       "    <tr>\n",
       "      <th>9</th>\n",
       "      <td>Ford Figo Diesel Celebration Edition</td>\n",
       "      <td>2013.0</td>\n",
       "      <td>200000.0</td>\n",
       "      <td>169000.0</td>\n",
       "      <td>Diesel</td>\n",
       "      <td>Individual</td>\n",
       "      <td>Manual</td>\n",
       "      <td>First Owner</td>\n",
       "      <td>20.0 kmpl</td>\n",
       "      <td>1399 CC</td>\n",
       "      <td>68.1 bhp</td>\n",
       "      <td>160Nm@ 2000rpm</td>\n",
       "      <td>5.0</td>\n",
       "    </tr>\n",
       "    <tr>\n",
       "      <th>10</th>\n",
       "      <td>Renault Duster 110PS Diesel RxL</td>\n",
       "      <td>2014.0</td>\n",
       "      <td>500000.0</td>\n",
       "      <td>68000.0</td>\n",
       "      <td>Diesel</td>\n",
       "      <td>Individual</td>\n",
       "      <td>Manual</td>\n",
       "      <td>Second Owner</td>\n",
       "      <td>19.01 kmpl</td>\n",
       "      <td>1461 CC</td>\n",
       "      <td>108.45 bhp</td>\n",
       "      <td>248Nm@ 2250rpm</td>\n",
       "      <td>5.0</td>\n",
       "    </tr>\n",
       "    <tr>\n",
       "      <th>11</th>\n",
       "      <td>Maruti Zen LX</td>\n",
       "      <td>2005.0</td>\n",
       "      <td>92000.0</td>\n",
       "      <td>100000.0</td>\n",
       "      <td>Petrol</td>\n",
       "      <td>Individual</td>\n",
       "      <td>Manual</td>\n",
       "      <td>Second Owner</td>\n",
       "      <td>17.3 kmpl</td>\n",
       "      <td>993 CC</td>\n",
       "      <td>60 bhp</td>\n",
       "      <td>78Nm@ 4500rpm</td>\n",
       "      <td>5.0</td>\n",
       "    </tr>\n",
       "    <tr>\n",
       "      <th>12</th>\n",
       "      <td>Maruti Swift Dzire VDi</td>\n",
       "      <td>2009.0</td>\n",
       "      <td>280000.0</td>\n",
       "      <td>140000.0</td>\n",
       "      <td>Diesel</td>\n",
       "      <td>Individual</td>\n",
       "      <td>Manual</td>\n",
       "      <td>Second Owner</td>\n",
       "      <td>19.3 kmpl</td>\n",
       "      <td>1248 CC</td>\n",
       "      <td>73.9 bhp</td>\n",
       "      <td>190Nm@ 2000rpm</td>\n",
       "      <td>5.0</td>\n",
       "    </tr>\n",
       "    <tr>\n",
       "      <th>13</th>\n",
       "      <td>Maruti Swift 1.3 VXi</td>\n",
       "      <td>2007.0</td>\n",
       "      <td>200000.0</td>\n",
       "      <td>80000.0</td>\n",
       "      <td>Petrol</td>\n",
       "      <td>Individual</td>\n",
       "      <td>Manual</td>\n",
       "      <td>Second Owner</td>\n",
       "      <td>NaN</td>\n",
       "      <td>NaN</td>\n",
       "      <td>NaN</td>\n",
       "      <td>NaN</td>\n",
       "      <td>NaN</td>\n",
       "    </tr>\n",
       "    <tr>\n",
       "      <th>14</th>\n",
       "      <td>Maruti Wagon R LXI Minor</td>\n",
       "      <td>2009.0</td>\n",
       "      <td>180000.0</td>\n",
       "      <td>90000.0</td>\n",
       "      <td>Petrol</td>\n",
       "      <td>Individual</td>\n",
       "      <td>Manual</td>\n",
       "      <td>Second Owner</td>\n",
       "      <td>18.9 kmpl</td>\n",
       "      <td>1061 CC</td>\n",
       "      <td>67 bhp</td>\n",
       "      <td>84Nm@ 3500rpm</td>\n",
       "      <td>5.0</td>\n",
       "    </tr>\n",
       "    <tr>\n",
       "      <th>15</th>\n",
       "      <td>Mahindra KUV 100 mFALCON G80 K8 5str</td>\n",
       "      <td>2016.0</td>\n",
       "      <td>400000.0</td>\n",
       "      <td>40000.0</td>\n",
       "      <td>Petrol</td>\n",
       "      <td>Individual</td>\n",
       "      <td>Manual</td>\n",
       "      <td>First Owner</td>\n",
       "      <td>18.15 kmpl</td>\n",
       "      <td>1198 CC</td>\n",
       "      <td>82 bhp</td>\n",
       "      <td>115Nm@ 3500-3600rpm</td>\n",
       "      <td>5.0</td>\n",
       "    </tr>\n",
       "    <tr>\n",
       "      <th>16</th>\n",
       "      <td>Maruti Ertiga SHVS VDI</td>\n",
       "      <td>2016.0</td>\n",
       "      <td>778000.0</td>\n",
       "      <td>70000.0</td>\n",
       "      <td>Diesel</td>\n",
       "      <td>Individual</td>\n",
       "      <td>Manual</td>\n",
       "      <td>Second Owner</td>\n",
       "      <td>24.52 kmpl</td>\n",
       "      <td>1248 CC</td>\n",
       "      <td>88.5 bhp</td>\n",
       "      <td>200Nm@ 1750rpm</td>\n",
       "      <td>7.0</td>\n",
       "    </tr>\n",
       "    <tr>\n",
       "      <th>17</th>\n",
       "      <td>Hyundai i20 1.4 CRDi Asta</td>\n",
       "      <td>2012.0</td>\n",
       "      <td>500000.0</td>\n",
       "      <td>53000.0</td>\n",
       "      <td>Diesel</td>\n",
       "      <td>Individual</td>\n",
       "      <td>Manual</td>\n",
       "      <td>Second Owner</td>\n",
       "      <td>23.0 kmpl</td>\n",
       "      <td>1396 CC</td>\n",
       "      <td>90 bhp</td>\n",
       "      <td>22.4 kgm at 1750-2750rpm</td>\n",
       "      <td>5.0</td>\n",
       "    </tr>\n",
       "    <tr>\n",
       "      <th>18</th>\n",
       "      <td>Maruti Alto LX</td>\n",
       "      <td>2002.0</td>\n",
       "      <td>150000.0</td>\n",
       "      <td>80000.0</td>\n",
       "      <td>Petrol</td>\n",
       "      <td>Individual</td>\n",
       "      <td>Manual</td>\n",
       "      <td>Second Owner</td>\n",
       "      <td>19.7 kmpl</td>\n",
       "      <td>796 CC</td>\n",
       "      <td>46.3 bhp</td>\n",
       "      <td>62Nm@ 3000rpm</td>\n",
       "      <td>5.0</td>\n",
       "    </tr>\n",
       "    <tr>\n",
       "      <th>19</th>\n",
       "      <td>Hyundai i20 2015-2017 Asta 1.4 CRDi</td>\n",
       "      <td>2016.0</td>\n",
       "      <td>680000.0</td>\n",
       "      <td>100000.0</td>\n",
       "      <td>Diesel</td>\n",
       "      <td>Individual</td>\n",
       "      <td>Manual</td>\n",
       "      <td>First Owner</td>\n",
       "      <td>22.54 kmpl</td>\n",
       "      <td>1396 CC</td>\n",
       "      <td>88.73 bhp</td>\n",
       "      <td>219.7Nm@ 1500-2750rpm</td>\n",
       "      <td>5.0</td>\n",
       "    </tr>\n",
       "    <tr>\n",
       "      <th>20</th>\n",
       "      <td>Mahindra Verito 1.5 D4 BSIII</td>\n",
       "      <td>2011.0</td>\n",
       "      <td>174000.0</td>\n",
       "      <td>100000.0</td>\n",
       "      <td>Diesel</td>\n",
       "      <td>Individual</td>\n",
       "      <td>Manual</td>\n",
       "      <td>Second Owner</td>\n",
       "      <td>21.0 kmpl</td>\n",
       "      <td>1461 CC</td>\n",
       "      <td>64.1 bhp</td>\n",
       "      <td>160Nm@ 2000rpm</td>\n",
       "      <td>5.0</td>\n",
       "    </tr>\n",
       "    <tr>\n",
       "      <th>21</th>\n",
       "      <td>Honda WR-V i-DTEC VX</td>\n",
       "      <td>2017.0</td>\n",
       "      <td>950000.0</td>\n",
       "      <td>50000.0</td>\n",
       "      <td>Diesel</td>\n",
       "      <td>Individual</td>\n",
       "      <td>Manual</td>\n",
       "      <td>First Owner</td>\n",
       "      <td>25.5 kmpl</td>\n",
       "      <td>1498 CC</td>\n",
       "      <td>98.6 bhp</td>\n",
       "      <td>200Nm@ 1750rpm</td>\n",
       "      <td>5.0</td>\n",
       "    </tr>\n",
       "    <tr>\n",
       "      <th>22</th>\n",
       "      <td>Maruti Swift Dzire ZDI</td>\n",
       "      <td>2015.0</td>\n",
       "      <td>525000.0</td>\n",
       "      <td>40000.0</td>\n",
       "      <td>Diesel</td>\n",
       "      <td>Individual</td>\n",
       "      <td>Manual</td>\n",
       "      <td>First Owner</td>\n",
       "      <td>26.59 kmpl</td>\n",
       "      <td>1248 CC</td>\n",
       "      <td>74 bhp</td>\n",
       "      <td>190Nm@ 2000rpm</td>\n",
       "      <td>5.0</td>\n",
       "    </tr>\n",
       "    <tr>\n",
       "      <th>23</th>\n",
       "      <td>Maruti SX4 ZDI</td>\n",
       "      <td>2012.0</td>\n",
       "      <td>600000.0</td>\n",
       "      <td>72000.0</td>\n",
       "      <td>Diesel</td>\n",
       "      <td>Individual</td>\n",
       "      <td>Manual</td>\n",
       "      <td>First Owner</td>\n",
       "      <td>21.5 kmpl</td>\n",
       "      <td>1248 CC</td>\n",
       "      <td>88.8 bhp</td>\n",
       "      <td>200Nm@ 1750rpm</td>\n",
       "      <td>5.0</td>\n",
       "    </tr>\n",
       "    <tr>\n",
       "      <th>24</th>\n",
       "      <td>Tata Tigor 2017-2020 XZ</td>\n",
       "      <td>2018.0</td>\n",
       "      <td>500000.0</td>\n",
       "      <td>35000.0</td>\n",
       "      <td>Petrol</td>\n",
       "      <td>Individual</td>\n",
       "      <td>Manual</td>\n",
       "      <td>First Owner</td>\n",
       "      <td>20.3 kmpl</td>\n",
       "      <td>1199 CC</td>\n",
       "      <td>83.81 bhp</td>\n",
       "      <td>114Nm@ 3500rpm</td>\n",
       "      <td>5.0</td>\n",
       "    </tr>\n",
       "  </tbody>\n",
       "</table>\n",
       "</div>"
      ],
      "text/plain": [
       "                                                 name    year  selling_price  \\\n",
       "0                              Maruti Swift Dzire VDI  2014.0       450000.0   \n",
       "1                        Skoda Rapid 1.5 TDI Ambition  2014.0       370000.0   \n",
       "2   Honda City 2017-2020 EXi,2006,158000,140000,Pe...     NaN            NaN   \n",
       "3                           Hyundai i20 Sportz Diesel  2010.0       225000.0   \n",
       "4   Maruti Swift VXI BSIII,2007,130000,120000,Petr...     NaN            NaN   \n",
       "5                       Hyundai Xcent 1.2 VTVT E Plus  2017.0       440000.0   \n",
       "6   Maruti Wagon R LXI DUO BSIII,2007,96000,175000...     NaN            NaN   \n",
       "7                                  Maruti 800 DX BSII  2001.0        45000.0   \n",
       "8                                    Toyota Etios VXD  2011.0       350000.0   \n",
       "9                Ford Figo Diesel Celebration Edition  2013.0       200000.0   \n",
       "10                    Renault Duster 110PS Diesel RxL  2014.0       500000.0   \n",
       "11                                      Maruti Zen LX  2005.0        92000.0   \n",
       "12                             Maruti Swift Dzire VDi  2009.0       280000.0   \n",
       "13                               Maruti Swift 1.3 VXi  2007.0       200000.0   \n",
       "14                           Maruti Wagon R LXI Minor  2009.0       180000.0   \n",
       "15               Mahindra KUV 100 mFALCON G80 K8 5str  2016.0       400000.0   \n",
       "16                             Maruti Ertiga SHVS VDI  2016.0       778000.0   \n",
       "17                          Hyundai i20 1.4 CRDi Asta  2012.0       500000.0   \n",
       "18                                     Maruti Alto LX  2002.0       150000.0   \n",
       "19                Hyundai i20 2015-2017 Asta 1.4 CRDi  2016.0       680000.0   \n",
       "20                       Mahindra Verito 1.5 D4 BSIII  2011.0       174000.0   \n",
       "21                               Honda WR-V i-DTEC VX  2017.0       950000.0   \n",
       "22                             Maruti Swift Dzire ZDI  2015.0       525000.0   \n",
       "23                                     Maruti SX4 ZDI  2012.0       600000.0   \n",
       "24                            Tata Tigor 2017-2020 XZ  2018.0       500000.0   \n",
       "\n",
       "    km_driven    fuel seller_type transmission         owner     mileage  \\\n",
       "0    145500.0  Diesel  Individual       Manual   First Owner   23.4 kmpl   \n",
       "1    120000.0  Diesel  Individual       Manual  Second Owner  21.14 kmpl   \n",
       "2         NaN     NaN         NaN          NaN           NaN         NaN   \n",
       "3    127000.0  Diesel  Individual       Manual   First Owner   23.0 kmpl   \n",
       "4         NaN     NaN         NaN          NaN           NaN         NaN   \n",
       "5     45000.0  Petrol  Individual       Manual   First Owner  20.14 kmpl   \n",
       "6         NaN     NaN         NaN          NaN           NaN         NaN   \n",
       "7      5000.0  Petrol  Individual       Manual  Second Owner   16.1 kmpl   \n",
       "8     90000.0  Diesel  Individual       Manual   First Owner  23.59 kmpl   \n",
       "9    169000.0  Diesel  Individual       Manual   First Owner   20.0 kmpl   \n",
       "10    68000.0  Diesel  Individual       Manual  Second Owner  19.01 kmpl   \n",
       "11   100000.0  Petrol  Individual       Manual  Second Owner   17.3 kmpl   \n",
       "12   140000.0  Diesel  Individual       Manual  Second Owner   19.3 kmpl   \n",
       "13    80000.0  Petrol  Individual       Manual  Second Owner         NaN   \n",
       "14    90000.0  Petrol  Individual       Manual  Second Owner   18.9 kmpl   \n",
       "15    40000.0  Petrol  Individual       Manual   First Owner  18.15 kmpl   \n",
       "16    70000.0  Diesel  Individual       Manual  Second Owner  24.52 kmpl   \n",
       "17    53000.0  Diesel  Individual       Manual  Second Owner   23.0 kmpl   \n",
       "18    80000.0  Petrol  Individual       Manual  Second Owner   19.7 kmpl   \n",
       "19   100000.0  Diesel  Individual       Manual   First Owner  22.54 kmpl   \n",
       "20   100000.0  Diesel  Individual       Manual  Second Owner   21.0 kmpl   \n",
       "21    50000.0  Diesel  Individual       Manual   First Owner   25.5 kmpl   \n",
       "22    40000.0  Diesel  Individual       Manual   First Owner  26.59 kmpl   \n",
       "23    72000.0  Diesel  Individual       Manual   First Owner   21.5 kmpl   \n",
       "24    35000.0  Petrol  Individual       Manual   First Owner   20.3 kmpl   \n",
       "\n",
       "     engine   max_power                    torque  seats  \n",
       "0   1248 CC      74 bhp            190Nm@ 2000rpm    5.0  \n",
       "1   1498 CC  103.52 bhp       250Nm@ 1500-2500rpm    5.0  \n",
       "2       NaN         NaN                       NaN    NaN  \n",
       "3   1396 CC      90 bhp  22.4 kgm at 1750-2750rpm    5.0  \n",
       "4       NaN         NaN                       NaN    NaN  \n",
       "5   1197 CC   81.86 bhp         113.75nm@ 4000rpm    5.0  \n",
       "6       NaN         NaN                       NaN    NaN  \n",
       "7    796 CC      37 bhp             59Nm@ 2500rpm    4.0  \n",
       "8   1364 CC    67.1 bhp       170Nm@ 1800-2400rpm    5.0  \n",
       "9   1399 CC    68.1 bhp            160Nm@ 2000rpm    5.0  \n",
       "10  1461 CC  108.45 bhp            248Nm@ 2250rpm    5.0  \n",
       "11   993 CC      60 bhp             78Nm@ 4500rpm    5.0  \n",
       "12  1248 CC    73.9 bhp            190Nm@ 2000rpm    5.0  \n",
       "13      NaN         NaN                       NaN    NaN  \n",
       "14  1061 CC      67 bhp             84Nm@ 3500rpm    5.0  \n",
       "15  1198 CC      82 bhp       115Nm@ 3500-3600rpm    5.0  \n",
       "16  1248 CC    88.5 bhp            200Nm@ 1750rpm    7.0  \n",
       "17  1396 CC      90 bhp  22.4 kgm at 1750-2750rpm    5.0  \n",
       "18   796 CC    46.3 bhp             62Nm@ 3000rpm    5.0  \n",
       "19  1396 CC   88.73 bhp     219.7Nm@ 1500-2750rpm    5.0  \n",
       "20  1461 CC    64.1 bhp            160Nm@ 2000rpm    5.0  \n",
       "21  1498 CC    98.6 bhp            200Nm@ 1750rpm    5.0  \n",
       "22  1248 CC      74 bhp            190Nm@ 2000rpm    5.0  \n",
       "23  1248 CC    88.8 bhp            200Nm@ 1750rpm    5.0  \n",
       "24  1199 CC   83.81 bhp            114Nm@ 3500rpm    5.0  "
      ]
     },
     "execution_count": 832,
     "metadata": {},
     "output_type": "execute_result"
    }
   ],
   "source": [
    "# lectura de datos\n",
    "Datos.head(25)"
   ]
  },
  {
   "cell_type": "code",
   "execution_count": 833,
   "id": "a6c4ae3d-c2d1-4dc5-a93c-3a8ef1137c47",
   "metadata": {},
   "outputs": [
    {
     "data": {
      "text/html": [
       "<div>\n",
       "<style scoped>\n",
       "    .dataframe tbody tr th:only-of-type {\n",
       "        vertical-align: middle;\n",
       "    }\n",
       "\n",
       "    .dataframe tbody tr th {\n",
       "        vertical-align: top;\n",
       "    }\n",
       "\n",
       "    .dataframe thead th {\n",
       "        text-align: right;\n",
       "    }\n",
       "</style>\n",
       "<table border=\"1\" class=\"dataframe\">\n",
       "  <thead>\n",
       "    <tr style=\"text-align: right;\">\n",
       "      <th></th>\n",
       "      <th>year</th>\n",
       "      <th>selling_price</th>\n",
       "      <th>km_driven</th>\n",
       "      <th>seats</th>\n",
       "    </tr>\n",
       "  </thead>\n",
       "  <tbody>\n",
       "    <tr>\n",
       "      <th>count</th>\n",
       "      <td>7787.000000</td>\n",
       "      <td>7.787000e+03</td>\n",
       "      <td>7.787000e+03</td>\n",
       "      <td>7566.000000</td>\n",
       "    </tr>\n",
       "    <tr>\n",
       "      <th>mean</th>\n",
       "      <td>2014.054193</td>\n",
       "      <td>6.566975e+05</td>\n",
       "      <td>6.840663e+04</td>\n",
       "      <td>5.422284</td>\n",
       "    </tr>\n",
       "    <tr>\n",
       "      <th>std</th>\n",
       "      <td>3.911379</td>\n",
       "      <td>8.174188e+05</td>\n",
       "      <td>5.663441e+04</td>\n",
       "      <td>0.955162</td>\n",
       "    </tr>\n",
       "    <tr>\n",
       "      <th>min</th>\n",
       "      <td>1983.000000</td>\n",
       "      <td>2.999900e+04</td>\n",
       "      <td>1.000000e+00</td>\n",
       "      <td>2.000000</td>\n",
       "    </tr>\n",
       "    <tr>\n",
       "      <th>25%</th>\n",
       "      <td>2012.000000</td>\n",
       "      <td>2.750000e+05</td>\n",
       "      <td>3.300150e+04</td>\n",
       "      <td>5.000000</td>\n",
       "    </tr>\n",
       "    <tr>\n",
       "      <th>50%</th>\n",
       "      <td>2015.000000</td>\n",
       "      <td>4.599990e+05</td>\n",
       "      <td>6.000000e+04</td>\n",
       "      <td>5.000000</td>\n",
       "    </tr>\n",
       "    <tr>\n",
       "      <th>75%</th>\n",
       "      <td>2017.000000</td>\n",
       "      <td>6.965000e+05</td>\n",
       "      <td>9.000000e+04</td>\n",
       "      <td>5.000000</td>\n",
       "    </tr>\n",
       "    <tr>\n",
       "      <th>max</th>\n",
       "      <td>2020.000000</td>\n",
       "      <td>1.000000e+07</td>\n",
       "      <td>2.360457e+06</td>\n",
       "      <td>14.000000</td>\n",
       "    </tr>\n",
       "  </tbody>\n",
       "</table>\n",
       "</div>"
      ],
      "text/plain": [
       "              year  selling_price     km_driven        seats\n",
       "count  7787.000000   7.787000e+03  7.787000e+03  7566.000000\n",
       "mean   2014.054193   6.566975e+05  6.840663e+04     5.422284\n",
       "std       3.911379   8.174188e+05  5.663441e+04     0.955162\n",
       "min    1983.000000   2.999900e+04  1.000000e+00     2.000000\n",
       "25%    2012.000000   2.750000e+05  3.300150e+04     5.000000\n",
       "50%    2015.000000   4.599990e+05  6.000000e+04     5.000000\n",
       "75%    2017.000000   6.965000e+05  9.000000e+04     5.000000\n",
       "max    2020.000000   1.000000e+07  2.360457e+06    14.000000"
      ]
     },
     "execution_count": 833,
     "metadata": {},
     "output_type": "execute_result"
    }
   ],
   "source": [
    "#Descripcion de datos\n",
    "Datos.describe()"
   ]
  },
  {
   "cell_type": "code",
   "execution_count": 834,
   "id": "52a1be9b-6bb9-4d9d-b876-d14eb4419676",
   "metadata": {},
   "outputs": [],
   "source": [
    "#datos faltantes y atipicos"
   ]
  },
  {
   "cell_type": "code",
   "execution_count": 835,
   "id": "de0dab67-a7f5-4077-a3d5-db1c62350556",
   "metadata": {},
   "outputs": [
    {
     "data": {
      "text/plain": [
       "Text(0.5, 1.0, 'relaciones entre variables, valores atípicos, tendencias \"Año del Vehiculo\"')"
      ]
     },
     "execution_count": 835,
     "metadata": {},
     "output_type": "execute_result"
    },
    {
     "data": {
      "image/png": "[encoded data removed]",
      "text/plain": [
       "<Figure size 500x300 with 1 Axes>"
      ]
     },
     "metadata": {},
     "output_type": "display_data"
    }
   ],
   "source": [
    "plt.figure(figsize=(5, 3))\n",
    "sns.boxplot(x=Datos['year'])\n",
    "plt.title('relaciones entre variables, valores atípicos, tendencias \"Año del Vehiculo\"', fontsize=10)"
   ]
  },
  {
   "cell_type": "code",
   "execution_count": 836,
   "id": "ca79e8a7-59e2-4ab2-8041-aba09c203b41",
   "metadata": {},
   "outputs": [
    {
     "data": {
      "text/plain": [
       "<BarContainer object of 3 artists>"
      ]
     },
     "execution_count": 836,
     "metadata": {},
     "output_type": "execute_result"
    },
    {
     "data": {
      "image/png": "[encoded data removed]",
      "text/plain": [
       "<Figure size 640x480 with 1 Axes>"
      ]
     },
     "metadata": {},
     "output_type": "display_data"
    }
   ],
   "source": [
    "# Datos\n",
    "Vehiculos = [\"year\", \"name\", \"fuel\"]\n",
    "grosor = [0.3, 0.3, 0.3]\n",
    "\n",
    "# Gráfico de barras#\n",
    "fig, ax = plt.subplots()\n",
    "ax.bar(x = Vehiculos, height = y, width = grosor, color = \"green\")\n",
    "# plt.show()"
   ]
  },
  {
   "cell_type": "code",
   "execution_count": 837,
   "id": "f5b2e348-9bd6-4dfc-9fd4-d6236c03e31d",
   "metadata": {},
   "outputs": [],
   "source": [
    "#Paso 2 Preprocesar los datos limpiándolos, tratando valores faltantes y transformándolos según sea necesario.\n"
   ]
  },
  {
   "cell_type": "code",
   "execution_count": 838,
   "id": "dbf3baf0-48bb-4f4c-a83a-b855c84d7335",
   "metadata": {},
   "outputs": [
    {
     "name": "stdout",
     "output_type": "stream",
     "text": [
      "Registros con datos en cero para el año de modelo del vehiculo:  0\n"
     ]
    }
   ],
   "source": [
    "print (\"Registros con datos en cero para el año de modelo del vehiculo: \" ,Datos['year'].isin(['0']).sum())"
   ]
  },
  {
   "cell_type": "code",
   "execution_count": 839,
   "id": "f29a8e38-4941-4c4f-aabd-9c238500c784",
   "metadata": {},
   "outputs": [
    {
     "name": "stdout",
     "output_type": "stream",
     "text": [
      "Registros con datos en cero para el nombre del vehiculo:  0\n"
     ]
    }
   ],
   "source": [
    "print (\"Registros con datos en cero para el nombre del vehiculo: \" ,Datos['name'].isin([0]).sum())"
   ]
  },
  {
   "cell_type": "code",
   "execution_count": 840,
   "id": "8d43fcfe-b80f-4667-aa5a-3e95f0424e04",
   "metadata": {},
   "outputs": [
    {
     "name": "stdout",
     "output_type": "stream",
     "text": [
      "Registros con datos en cero para maxima velocidad del vehiculo:  0\n"
     ]
    }
   ],
   "source": [
    "print (\"Registros con datos en cero para maxima velocidad del vehiculo: \" ,Datos['max_power'].isin([0]).sum())"
   ]
  },
  {
   "cell_type": "code",
   "execution_count": 841,
   "id": "0fae4d6f-cd94-4dd4-a4c4-b9c1030bcc9b",
   "metadata": {},
   "outputs": [
    {
     "name": "stdout",
     "output_type": "stream",
     "text": [
      "Registros con datos en cero para millas del vehiculo:  0\n"
     ]
    }
   ],
   "source": [
    "print (\"Registros con datos en cero para millas del vehiculo: \" ,Datos['mileage'].isin(['0']).sum())"
   ]
  },
  {
   "cell_type": "code",
   "execution_count": 842,
   "id": "82757d68-9a44-400f-bc0c-79eefe89390b",
   "metadata": {},
   "outputs": [],
   "source": [
    "# identificacion de Datos Atipicos"
   ]
  },
  {
   "cell_type": "code",
   "execution_count": 843,
   "id": "a7fa3c57-0eb9-4e0a-9133-d11b3cda8f86",
   "metadata": {},
   "outputs": [
    {
     "data": {
      "text/plain": [
       "Text(0.5, 1.0, 'Datos atipicos\"')"
      ]
     },
     "execution_count": 843,
     "metadata": {},
     "output_type": "execute_result"
    },
    {
     "data": {
      "image/png": "[encoded data removed]",
      "text/plain": [
       "<Figure size 500x300 with 1 Axes>"
      ]
     },
     "metadata": {},
     "output_type": "display_data"
    }
   ],
   "source": [
    "plt.figure(figsize=(5, 3))\n",
    "sns.boxplot(x=Datos['km_driven'])\n",
    "plt.title('Datos atipicos\"', fontsize=7)"
   ]
  },
  {
   "cell_type": "code",
   "execution_count": 844,
   "id": "207b04d6-fc94-4adf-9cf7-36cac661b556",
   "metadata": {},
   "outputs": [
    {
     "name": "stdout",
     "output_type": "stream",
     "text": [
      "Total de Datos atipicos 1\n"
     ]
    }
   ],
   "source": [
    "# Conteo datos atipicos\n",
    "\n",
    "kil_minimo=1\n",
    "kil_maximo=1500000\n",
    "Total_Atipicos=((Datos['km_driven']<kil_minimo)|(Datos['km_driven']>kil_maximo)).sum()\n",
    "print(\"Total de Datos atipicos {}\".format(Total_Atipicos))"
   ]
  },
  {
   "cell_type": "code",
   "execution_count": 845,
   "id": "e816065e-5c87-43b5-b444-7cfcfff2195c",
   "metadata": {},
   "outputs": [],
   "source": [
    "# Filtro datos atipicos\n",
    "Datos=Datos [(Datos ['km_driven']<kil_maximo)&(Datos['km_driven']>kil_minimo)]"
   ]
  },
  {
   "cell_type": "code",
   "execution_count": 846,
   "id": "982818a2-f5c1-4a0f-809a-688109c932aa",
   "metadata": {},
   "outputs": [
    {
     "name": "stdout",
     "output_type": "stream",
     "text": [
      "el total Datos atipicos encontrados es 7784\n"
     ]
    }
   ],
   "source": [
    "# Validar dato atipico removido\n",
    "\n",
    "Total_Atipicos=((Datos['km_driven']<kil_minimo)|(Datos['km_driven']>kil_minimo)).sum()\n",
    "print (\"el total Datos atipicos encontrados es {}\".format(Total_Atipicos))"
   ]
  },
  {
   "cell_type": "code",
   "execution_count": 847,
   "id": "ad7510bd-93e0-439c-b2c8-2f1165d9abca",
   "metadata": {},
   "outputs": [
    {
     "name": "stdout",
     "output_type": "stream",
     "text": [
      "<class 'pandas.core.frame.DataFrame'>\n",
      "Index: 7784 entries, 0 to 8127\n",
      "Data columns (total 13 columns):\n",
      " #   Column         Non-Null Count  Dtype  \n",
      "---  ------         --------------  -----  \n",
      " 0   name           7784 non-null   object \n",
      " 1   year           7784 non-null   float64\n",
      " 2   selling_price  7784 non-null   float64\n",
      " 3   km_driven      7784 non-null   float64\n",
      " 4   fuel           7784 non-null   object \n",
      " 5   seller_type    7784 non-null   object \n",
      " 6   transmission   7784 non-null   object \n",
      " 7   owner          7784 non-null   object \n",
      " 8   mileage        7563 non-null   object \n",
      " 9   engine         7563 non-null   object \n",
      " 10  max_power      7569 non-null   object \n",
      " 11  torque         7562 non-null   object \n",
      " 12  seats          7563 non-null   float64\n",
      "dtypes: float64(4), object(9)\n",
      "memory usage: 851.4+ KB\n"
     ]
    }
   ],
   "source": [
    "Datos.info()"
   ]
  },
  {
   "cell_type": "code",
   "execution_count": 848,
   "id": "8a5ccfae-3e6d-48b3-a879-a6f559637b1e",
   "metadata": {},
   "outputs": [],
   "source": [
    "#Paso 3 Seleccionar las características más relevantes para entrenar el modelo utilizando selección de características.\n",
    "# Caracterizacion de Vehiculos"
   ]
  },
  {
   "cell_type": "code",
   "execution_count": 849,
   "id": "59c52bc4-ba5e-4bdc-84fd-220bf25811c0",
   "metadata": {},
   "outputs": [
    {
     "data": {
      "text/plain": [
       "year\n",
       "2017.0    1017\n",
       "2016.0     859\n",
       "2018.0     804\n",
       "2015.0     776\n",
       "2013.0     667\n",
       "2012.0     635\n",
       "2014.0     620\n",
       "2019.0     583\n",
       "2011.0     561\n",
       "2010.0     352\n",
       "2009.0     211\n",
       "2008.0     144\n",
       "2007.0     118\n",
       "2006.0      82\n",
       "2005.0      81\n",
       "2020.0      74\n",
       "2004.0      53\n",
       "2003.0      44\n",
       "2002.0      26\n",
       "2000.0      21\n",
       "1999.0      15\n",
       "1997.0      11\n",
       "2001.0      10\n",
       "1998.0      10\n",
       "1996.0       3\n",
       "1994.0       3\n",
       "1995.0       2\n",
       "1983.0       1\n",
       "1991.0       1\n",
       "Name: count, dtype: int64"
      ]
     },
     "execution_count": 849,
     "metadata": {},
     "output_type": "execute_result"
    }
   ],
   "source": [
    "Datos['year'].value_counts()"
   ]
  },
  {
   "cell_type": "code",
   "execution_count": 850,
   "id": "a161785b-5ed0-4e81-b622-094e771c4d01",
   "metadata": {},
   "outputs": [
    {
     "data": {
      "text/plain": [
       "selling_price\n",
       "300000.0    217\n",
       "600000.0    212\n",
       "550000.0    203\n",
       "350000.0    202\n",
       "450000.0    195\n",
       "           ... \n",
       "94500.0       1\n",
       "408000.0      1\n",
       "654000.0      1\n",
       "486000.0      1\n",
       "746000.0      1\n",
       "Name: count, Length: 667, dtype: int64"
      ]
     },
     "execution_count": 850,
     "metadata": {},
     "output_type": "execute_result"
    }
   ],
   "source": [
    "Datos['selling_price'].value_counts()"
   ]
  },
  {
   "cell_type": "code",
   "execution_count": 851,
   "id": "fef5a17a-4778-4301-90da-4f30fac00103",
   "metadata": {},
   "outputs": [
    {
     "data": {
      "text/plain": [
       "transmission\n",
       "Manual       6747\n",
       "Automatic    1037\n",
       "Name: count, dtype: int64"
      ]
     },
     "execution_count": 851,
     "metadata": {},
     "output_type": "execute_result"
    }
   ],
   "source": [
    "Datos['transmission'].value_counts()"
   ]
  },
  {
   "cell_type": "code",
   "execution_count": 852,
   "id": "a7ae69b2-f709-4d09-a0c3-f0afd59f517e",
   "metadata": {},
   "outputs": [],
   "source": [
    "#Paso 4 Seleccionar las características más relevantes para entrenar el modelo utilizando selección de características."
   ]
  },
  {
   "cell_type": "code",
   "execution_count": null,
   "id": "78a8dbd8-d77e-486a-9af3-9d98a7272e48",
   "metadata": {},
   "outputs": [],
   "source": [
    "# El % de datos para Train es del 77% y el 23% de datos para test es del %\n",
    "# se crean las varianbles X y Y para almacenar la informacion"
   ]
  },
  {
   "cell_type": "code",
   "execution_count": 854,
   "id": "d2ecb48f-a4da-4e09-b338-7831d29da6c0",
   "metadata": {},
   "outputs": [],
   "source": [
    "X= Datos.drop('selling_price', axis=1)\n",
    "Y= Datos['selling_price']"
   ]
  },
  {
   "cell_type": "code",
   "execution_count": 855,
   "id": "b70c5d2f-dfc7-4578-9832-da9a54598860",
   "metadata": {},
   "outputs": [],
   "source": [
    "from sklearn.model_selection import train_test_split"
   ]
  },
  {
   "cell_type": "code",
   "execution_count": 884,
   "id": "4f03ce30-9b09-4a0f-a2f7-5eaea9a781ce",
   "metadata": {},
   "outputs": [],
   "source": [
    "X_train, X_test, Y_train, Y_test = train_test_split(X, Y, test_size=0.23, random_state=0)"
   ]
  },
  {
   "cell_type": "code",
   "execution_count": 857,
   "id": "259ad335-6d9b-4705-aa59-d758e5619ff0",
   "metadata": {},
   "outputs": [],
   "source": [
    "stratity=Y"
   ]
  },
  {
   "cell_type": "code",
   "execution_count": 858,
   "id": "12700576-963c-4a30-906f-531b13a6af91",
   "metadata": {},
   "outputs": [
    {
     "name": "stdout",
     "output_type": "stream",
     "text": [
      "                                      name    year  km_driven    fuel  \\\n",
      "2958  Ford EcoSport 1.5 TDCi Titanium BSIV  2014.0   130000.0  Diesel   \n",
      "112                   Hyundai Verna 1.6 SX  2013.0   150000.0  Diesel   \n",
      "3624  Hyundai Xcent 1.2 Kappa AT SX Option  2016.0    60000.0  Petrol   \n",
      "7021                     Hyundai i20 Magna  2012.0    45000.0  Petrol   \n",
      "5464                Maruti Swift Vdi BSIII  2010.0   135000.0  Diesel   \n",
      "...                                    ...     ...        ...     ...   \n",
      "5127                Maruti Swift Dzire VDI  2017.0    61000.0  Diesel   \n",
      "3390               Maruti Baleno Delta 1.2  2016.0    45000.0  Petrol   \n",
      "1713        Volvo XC40 D4 Inscription BSIV  2019.0    20000.0  Diesel   \n",
      "2705      Mercedes-Benz M-Class ML 350 CDI  2013.0    50000.0  Diesel   \n",
      "2834  Volkswagen Vento 1.5 TDI Comfortline  2015.0    43001.0  Diesel   \n",
      "\n",
      "     seller_type transmission         owner     mileage   engine   max_power  \\\n",
      "2958  Individual       Manual  Second Owner  22.77 kmpl  1498 CC   98.59 bhp   \n",
      "112   Individual       Manual  Second Owner  22.32 kmpl  1582 CC  126.32 bhp   \n",
      "3624  Individual    Automatic   First Owner   16.9 kmpl  1197 CC      82 bhp   \n",
      "7021  Individual       Manual   First Owner   18.5 kmpl  1197 CC   82.85 bhp   \n",
      "5464  Individual       Manual  Second Owner   17.8 kmpl  1248 CC      75 bhp   \n",
      "...          ...          ...           ...         ...      ...         ...   \n",
      "5127  Individual       Manual   First Owner  26.59 kmpl  1248 CC      74 bhp   \n",
      "3390  Individual       Manual   First Owner   21.4 kmpl  1197 CC    83.1 bhp   \n",
      "1713  Individual    Automatic   First Owner   18.0 kmpl  1969 CC     190 bhp   \n",
      "2705  Individual    Automatic   First Owner  11.74 kmpl  2987 CC   254.8 bhp   \n",
      "2834      Dealer       Manual   First Owner  22.27 kmpl  1498 CC   108.6 bhp   \n",
      "\n",
      "                     torque  seats  \n",
      "2958    205Nm@ 1750-3250rpm    5.0  \n",
      "112   259.8Nm@ 1900-2750rpm    5.0  \n",
      "3624         114Nm@ 4000rpm    5.0  \n",
      "7021       113.7Nm@ 4000rpm    5.0  \n",
      "5464         190Nm@ 2000rpm    5.0  \n",
      "...                     ...    ...  \n",
      "5127         190Nm@ 2000rpm    5.0  \n",
      "3390         115Nm@ 4000rpm    5.0  \n",
      "1713                  400Nm    5.0  \n",
      "2705    619Nm@ 1600-2400rpm    5.0  \n",
      "2834    250Nm@ 1500-3000rpm    5.0  \n",
      "\n",
      "[5993 rows x 12 columns]\n"
     ]
    }
   ],
   "source": [
    "print (X_train)"
   ]
  },
  {
   "cell_type": "code",
   "execution_count": 859,
   "id": "27f2ebe2-1936-42ed-b809-37a10f1cceac",
   "metadata": {},
   "outputs": [
    {
     "name": "stdout",
     "output_type": "stream",
     "text": [
      "2958     500000.0\n",
      "112      522000.0\n",
      "3624     525000.0\n",
      "7021     335000.0\n",
      "5464     300000.0\n",
      "          ...    \n",
      "5127     620000.0\n",
      "3390     550000.0\n",
      "1713    3800000.0\n",
      "2705    3600000.0\n",
      "2834     560000.0\n",
      "Name: selling_price, Length: 5993, dtype: float64\n"
     ]
    }
   ],
   "source": [
    "print (Y_train)"
   ]
  },
  {
   "cell_type": "code",
   "execution_count": 860,
   "id": "10de1f25-61cd-4380-b20b-0b26fa5fbf80",
   "metadata": {},
   "outputs": [],
   "source": [
    "# Paso 5 Entrenar el modelo configurando los diferentes hiperparámetros."
   ]
  },
  {
   "cell_type": "code",
   "execution_count": 861,
   "id": "80a5e711-66e2-41e8-ba86-13eee08b8766",
   "metadata": {},
   "outputs": [],
   "source": [
    "# inicio de construccion modelo de regresion"
   ]
  },
  {
   "cell_type": "code",
   "execution_count": 862,
   "id": "12f9d622-6dcc-4825-b8fe-b3b9ee2cfa70",
   "metadata": {},
   "outputs": [],
   "source": [
    "from sklearn.linear_model import LinearRegression"
   ]
  },
  {
   "cell_type": "code",
   "execution_count": 863,
   "id": "26e5f9bc-0ed3-4944-b8e2-2e2916e75e7b",
   "metadata": {},
   "outputs": [],
   "source": [
    "from sklearn.linear_model import LinearRegression # libreria para modelos de ciencias de datos"
   ]
  },
  {
   "cell_type": "code",
   "execution_count": 885,
   "id": "b1da5114-d452-4943-a618-18ee436b98fc",
   "metadata": {},
   "outputs": [],
   "source": [
    "Datos = Datos[['selling_price', 'km_driven', 'year']]\n",
    "X = Datos.drop('selling_price',axis=1)\n",
    "Y = Datos['selling_price']\n",
    "X_train, X_test, Y_train, Y_test = train_test_split(X, Y, test_size=0.25, random_state= 0)"
   ]
  },
  {
   "cell_type": "code",
   "execution_count": 886,
   "id": "db58b3f7-8a67-4205-9dc0-71019867ab2d",
   "metadata": {},
   "outputs": [],
   "source": [
    "modelo_regresion = LinearRegression()\n",
    "modelo_regresion.fit (X_train , Y_train)\n",
    "Prediccion = modelo_regresion.predict(X_test)\n"
   ]
  },
  {
   "cell_type": "code",
   "execution_count": 866,
   "id": "c374afb3-b21f-4655-96ae-7e2a62028daa",
   "metadata": {},
   "outputs": [
    {
     "name": "stdout",
     "output_type": "stream",
     "text": [
      "2572     320000.0\n",
      "5392     415000.0\n",
      "5828    1550000.0\n",
      "7596    5830000.0\n",
      "3690     600000.0\n",
      "          ...    \n",
      "4384    1950000.0\n",
      "3783     300000.0\n",
      "5289     300000.0\n",
      "6934     250000.0\n",
      "6563     750000.0\n",
      "Name: selling_price, Length: 1946, dtype: float64\n"
     ]
    }
   ],
   "source": [
    "print (Y_test)"
   ]
  },
  {
   "cell_type": "code",
   "execution_count": 867,
   "id": "b8edb678-3926-4cc1-97e8-f2d81d239dc5",
   "metadata": {},
   "outputs": [
    {
     "name": "stdout",
     "output_type": "stream",
     "text": [
      "[929406.66478518 685204.98086068 901100.51719403 ... 702503.18216637\n",
      " 452162.67718491 558732.64558077]\n"
     ]
    }
   ],
   "source": [
    "print (Prediccion)"
   ]
  },
  {
   "cell_type": "code",
   "execution_count": 887,
   "id": "db1999e8-e0a7-4e8c-8d4b-889e53b79e57",
   "metadata": {},
   "outputs": [
    {
     "name": "stdout",
     "output_type": "stream",
     "text": [
      "El error absoluto medio del modelo es: 398687.67685493967\n",
      "El Error Cuadrático Medio del modelo es: 587874022945.1733\n",
      "El error cuadratico medio del modelo es: 766729.4326848118\n"
     ]
    }
   ],
   "source": [
    "from sklearn import metrics\n",
    "print('El error absoluto medio del modelo es:', metrics.mean_absolute_error(Y_test, Prediccion))\n",
    "print('El Error Cuadrático Medio del modelo es:', metrics.mean_squared_error(Y_test, Prediccion))\n",
    "print('El error cuadratico medio del modelo es:', np.sqrt(metrics.mean_squared_error(Y_test, Prediccion)))"
   ]
  },
  {
   "cell_type": "code",
   "execution_count": 869,
   "id": "df9a420d-9ce4-466e-a573-2b30cf61be85",
   "metadata": {},
   "outputs": [],
   "source": [
    "# Paso 6 Evaluar el desempeño del modelo en el conjunto de Test con métricas como precisión, recall, F1-score, etc. "
   ]
  },
  {
   "cell_type": "code",
   "execution_count": 888,
   "id": "1aa1dee6-c1d7-475a-a746-a0d07a4a84ea",
   "metadata": {},
   "outputs": [
    {
     "name": "stdout",
     "output_type": "stream",
     "text": [
      "<function classification_report at 0x000001A1C4827240>\n"
     ]
    }
   ],
   "source": [
    "print (classification_report)"
   ]
  },
  {
   "cell_type": "code",
   "execution_count": 871,
   "id": "e60588d8-f315-480b-b05f-52db01992186",
   "metadata": {},
   "outputs": [
    {
     "data": {
      "text/plain": [
       "(2572     320000.0\n",
       " 5392     415000.0\n",
       " 5828    1550000.0\n",
       " 7596    5830000.0\n",
       " 3690     600000.0\n",
       "           ...    \n",
       " 4384    1950000.0\n",
       " 3783     300000.0\n",
       " 5289     300000.0\n",
       " 6934     250000.0\n",
       " 6563     750000.0\n",
       " Name: selling_price, Length: 1946, dtype: float64,\n",
       " array([929406.66478518, 685204.98086068, 901100.51719403, ...,\n",
       "        702503.18216637, 452162.67718491, 558732.64558077]))"
      ]
     },
     "execution_count": 871,
     "metadata": {},
     "output_type": "execute_result"
    }
   ],
   "source": [
    "(Y_test, Prediccion)"
   ]
  },
  {
   "cell_type": "code",
   "execution_count": 872,
   "id": "f41ee166-cd6a-4072-9ddb-f666ac8270ff",
   "metadata": {},
   "outputs": [],
   "source": [
    "# 7 Realizar las diferentes gráficas que permitan visualizar los resultados del modelo. # MATRIS DE CONFUSION#"
   ]
  },
  {
   "cell_type": "code",
   "execution_count": 891,
   "id": "5b6a6f16-3b55-4446-a6ae-fba521733f09",
   "metadata": {},
   "outputs": [],
   "source": [
    "matriz=confusion_matrix"
   ]
  },
  {
   "cell_type": "code",
   "execution_count": 875,
   "id": "cf7c044d-57f9-4577-9d1f-565debfc0cb3",
   "metadata": {},
   "outputs": [
    {
     "data": {
      "text/plain": [
       "(2572     320000.0\n",
       " 5392     415000.0\n",
       " 5828    1550000.0\n",
       " 7596    5830000.0\n",
       " 3690     600000.0\n",
       "           ...    \n",
       " 4384    1950000.0\n",
       " 3783     300000.0\n",
       " 5289     300000.0\n",
       " 6934     250000.0\n",
       " 6563     750000.0\n",
       " Name: selling_price, Length: 1946, dtype: float64,\n",
       " array([929406.66478518, 685204.98086068, 901100.51719403, ...,\n",
       "        702503.18216637, 452162.67718491, 558732.64558077]))"
      ]
     },
     "execution_count": 875,
     "metadata": {},
     "output_type": "execute_result"
    }
   ],
   "source": [
    "(Y_test,Prediccion)"
   ]
  },
  {
   "cell_type": "code",
   "execution_count": null,
   "id": "777f627c-a752-420b-a988-c89466f709c7",
   "metadata": {},
   "outputs": [],
   "source": [
    "#De acuerdo con la informacion obtenida podriamos definir:\n",
    "\n",
    "#* La prediccion sobre el precio del vehiculo esta en un costo aproximado a los $700.000 COP lo cual nos indica\n",
    "#que efectivamente el valor obtenido en la variable es correcto segun lo aportado en los datos obtenidos\n"
   ]
  },
  {
   "cell_type": "code",
   "execution_count": 876,
   "id": "a1768da5-a61b-48ff-ad26-13ca1b67b895",
   "metadata": {},
   "outputs": [],
   "source": [
    "disp=metrics.ConfusionMatrixDisplay"
   ]
  },
  {
   "cell_type": "code",
   "execution_count": 877,
   "id": "cf408d8c-fd1d-46b3-b7c5-4a7eeca7c8f8",
   "metadata": {},
   "outputs": [],
   "source": [
    "confusion_matrix=matriz"
   ]
  },
  {
   "cell_type": "code",
   "execution_count": 878,
   "id": "c99e8d15-d862-4ea5-9a9e-55f44a41df87",
   "metadata": {},
   "outputs": [
    {
     "data": {
      "text/plain": [
       "<function sklearn.metrics._plot.confusion_matrix.ConfusionMatrixDisplay.plot(self, *, include_values=True, cmap='viridis', xticks_rotation='horizontal', values_format=None, ax=None, colorbar=True, im_kw=None, text_kw=None)>"
      ]
     },
     "execution_count": 878,
     "metadata": {},
     "output_type": "execute_result"
    }
   ],
   "source": [
    "disp.plot"
   ]
  },
  {
   "cell_type": "code",
   "execution_count": null,
   "id": "2f1356bb-23f3-4bfd-b161-2cfd8d086422",
   "metadata": {},
   "outputs": [],
   "source": []
  }
 ],
 "metadata": {
  "kernelspec": {
   "display_name": "Python 3 (ipykernel)",
   "language": "python",
   "name": "python3"
  },
  "language_info": {
   "codemirror_mode": {
    "name": "ipython",
    "version": 3
   },
   "file_extension": ".py",
   "mimetype": "text/x-python",
   "name": "python",
   "nbconvert_exporter": "python",
   "pygments_lexer": "ipython3",
   "version": "3.11.7"
  }
 },
 "nbformat": 4,
 "nbformat_minor": 5
}
